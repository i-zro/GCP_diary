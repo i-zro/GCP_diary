{
 "cells": [
  {
   "cell_type": "code",
   "execution_count": 1,
   "metadata": {},
   "outputs": [],
   "source": [
    "import pandas as pd"
   ]
  },
  {
   "cell_type": "code",
   "execution_count": 2,
   "metadata": {},
   "outputs": [],
   "source": [
    "emotion = pd.read_csv('감정단어사전.csv', encoding='CP949')"
   ]
  },
  {
   "cell_type": "code",
   "execution_count": 3,
   "metadata": {},
   "outputs": [
    {
     "data": {
      "text/html": [
       "<div>\n",
       "<style scoped>\n",
       "    .dataframe tbody tr th:only-of-type {\n",
       "        vertical-align: middle;\n",
       "    }\n",
       "\n",
       "    .dataframe tbody tr th {\n",
       "        vertical-align: top;\n",
       "    }\n",
       "\n",
       "    .dataframe thead th {\n",
       "        text-align: right;\n",
       "    }\n",
       "</style>\n",
       "<table border=\"1\" class=\"dataframe\">\n",
       "  <thead>\n",
       "    <tr style=\"text-align: right;\">\n",
       "      <th></th>\n",
       "      <th>일련번호</th>\n",
       "      <th>단어</th>\n",
       "      <th>감정범주</th>\n",
       "      <th>빈도</th>\n",
       "      <th>감정정도M</th>\n",
       "      <th>감정정도STD</th>\n",
       "    </tr>\n",
       "  </thead>\n",
       "  <tbody>\n",
       "    <tr>\n",
       "      <th>0</th>\n",
       "      <td>1.0</td>\n",
       "      <td>가관이다</td>\n",
       "      <td>혐오</td>\n",
       "      <td>47.5</td>\n",
       "      <td>4.95</td>\n",
       "      <td>2.46</td>\n",
       "    </tr>\n",
       "    <tr>\n",
       "      <th>1</th>\n",
       "      <td>2.0</td>\n",
       "      <td>가련하다</td>\n",
       "      <td>슬픔</td>\n",
       "      <td>88.8</td>\n",
       "      <td>5.62</td>\n",
       "      <td>2.36</td>\n",
       "    </tr>\n",
       "    <tr>\n",
       "      <th>2</th>\n",
       "      <td>3.0</td>\n",
       "      <td>가뿐하다</td>\n",
       "      <td>기쁨</td>\n",
       "      <td>81.3</td>\n",
       "      <td>5.36</td>\n",
       "      <td>2.89</td>\n",
       "    </tr>\n",
       "    <tr>\n",
       "      <th>3</th>\n",
       "      <td>4.0</td>\n",
       "      <td>가소롭다</td>\n",
       "      <td>혐오</td>\n",
       "      <td>46.3</td>\n",
       "      <td>4.82</td>\n",
       "      <td>1.81</td>\n",
       "    </tr>\n",
       "    <tr>\n",
       "      <th>4</th>\n",
       "      <td>5.0</td>\n",
       "      <td>가슴아프다</td>\n",
       "      <td>슬픔</td>\n",
       "      <td>93.8</td>\n",
       "      <td>7.62</td>\n",
       "      <td>2.14</td>\n",
       "    </tr>\n",
       "    <tr>\n",
       "      <th>...</th>\n",
       "      <td>...</td>\n",
       "      <td>...</td>\n",
       "      <td>...</td>\n",
       "      <td>...</td>\n",
       "      <td>...</td>\n",
       "      <td>...</td>\n",
       "    </tr>\n",
       "    <tr>\n",
       "      <th>669</th>\n",
       "      <td>NaN</td>\n",
       "      <td>NaN</td>\n",
       "      <td>NaN</td>\n",
       "      <td>NaN</td>\n",
       "      <td>NaN</td>\n",
       "      <td>NaN</td>\n",
       "    </tr>\n",
       "    <tr>\n",
       "      <th>670</th>\n",
       "      <td>NaN</td>\n",
       "      <td>NaN</td>\n",
       "      <td>NaN</td>\n",
       "      <td>NaN</td>\n",
       "      <td>NaN</td>\n",
       "      <td>NaN</td>\n",
       "    </tr>\n",
       "    <tr>\n",
       "      <th>671</th>\n",
       "      <td>NaN</td>\n",
       "      <td>NaN</td>\n",
       "      <td>NaN</td>\n",
       "      <td>NaN</td>\n",
       "      <td>NaN</td>\n",
       "      <td>NaN</td>\n",
       "    </tr>\n",
       "    <tr>\n",
       "      <th>672</th>\n",
       "      <td>NaN</td>\n",
       "      <td>NaN</td>\n",
       "      <td>NaN</td>\n",
       "      <td>NaN</td>\n",
       "      <td>NaN</td>\n",
       "      <td>NaN</td>\n",
       "    </tr>\n",
       "    <tr>\n",
       "      <th>673</th>\n",
       "      <td>NaN</td>\n",
       "      <td>NaN</td>\n",
       "      <td>NaN</td>\n",
       "      <td>NaN</td>\n",
       "      <td>NaN</td>\n",
       "      <td>NaN</td>\n",
       "    </tr>\n",
       "  </tbody>\n",
       "</table>\n",
       "<p>674 rows × 6 columns</p>\n",
       "</div>"
      ],
      "text/plain": [
       "     일련번호     단어 감정범주    빈도  감정정도M  감정정도STD\n",
       "0     1.0   가관이다   혐오  47.5   4.95     2.46\n",
       "1     2.0   가련하다   슬픔  88.8   5.62     2.36\n",
       "2     3.0   가뿐하다   기쁨  81.3   5.36     2.89\n",
       "3     4.0   가소롭다   혐오  46.3   4.82     1.81\n",
       "4     5.0  가슴아프다   슬픔  93.8   7.62     2.14\n",
       "..    ...    ...  ...   ...    ...      ...\n",
       "669   NaN    NaN  NaN   NaN    NaN      NaN\n",
       "670   NaN    NaN  NaN   NaN    NaN      NaN\n",
       "671   NaN    NaN  NaN   NaN    NaN      NaN\n",
       "672   NaN    NaN  NaN   NaN    NaN      NaN\n",
       "673   NaN    NaN  NaN   NaN    NaN      NaN\n",
       "\n",
       "[674 rows x 6 columns]"
      ]
     },
     "execution_count": 3,
     "metadata": {},
     "output_type": "execute_result"
    }
   ],
   "source": [
    "emotion"
   ]
  },
  {
   "cell_type": "code",
   "execution_count": 11,
   "metadata": {},
   "outputs": [
    {
     "data": {
      "text/html": [
       "<div>\n",
       "<style scoped>\n",
       "    .dataframe tbody tr th:only-of-type {\n",
       "        vertical-align: middle;\n",
       "    }\n",
       "\n",
       "    .dataframe tbody tr th {\n",
       "        vertical-align: top;\n",
       "    }\n",
       "\n",
       "    .dataframe thead th {\n",
       "        text-align: right;\n",
       "    }\n",
       "</style>\n",
       "<table border=\"1\" class=\"dataframe\">\n",
       "  <thead>\n",
       "    <tr style=\"text-align: right;\">\n",
       "      <th></th>\n",
       "      <th>일련번호</th>\n",
       "      <th>단어</th>\n",
       "      <th>감정범주</th>\n",
       "      <th>빈도</th>\n",
       "      <th>감정정도M</th>\n",
       "      <th>감정정도STD</th>\n",
       "    </tr>\n",
       "  </thead>\n",
       "  <tbody>\n",
       "    <tr>\n",
       "      <th>0</th>\n",
       "      <td>1.0</td>\n",
       "      <td>가관이다</td>\n",
       "      <td>혐오</td>\n",
       "      <td>47.5</td>\n",
       "      <td>4.95</td>\n",
       "      <td>2.46</td>\n",
       "    </tr>\n",
       "    <tr>\n",
       "      <th>1</th>\n",
       "      <td>2.0</td>\n",
       "      <td>가련하다</td>\n",
       "      <td>슬픔</td>\n",
       "      <td>88.8</td>\n",
       "      <td>5.62</td>\n",
       "      <td>2.36</td>\n",
       "    </tr>\n",
       "    <tr>\n",
       "      <th>2</th>\n",
       "      <td>3.0</td>\n",
       "      <td>가뿐하다</td>\n",
       "      <td>기쁨</td>\n",
       "      <td>81.3</td>\n",
       "      <td>5.36</td>\n",
       "      <td>2.89</td>\n",
       "    </tr>\n",
       "    <tr>\n",
       "      <th>3</th>\n",
       "      <td>4.0</td>\n",
       "      <td>가소롭다</td>\n",
       "      <td>혐오</td>\n",
       "      <td>46.3</td>\n",
       "      <td>4.82</td>\n",
       "      <td>1.81</td>\n",
       "    </tr>\n",
       "    <tr>\n",
       "      <th>4</th>\n",
       "      <td>5.0</td>\n",
       "      <td>가슴아프다</td>\n",
       "      <td>슬픔</td>\n",
       "      <td>93.8</td>\n",
       "      <td>7.62</td>\n",
       "      <td>2.14</td>\n",
       "    </tr>\n",
       "  </tbody>\n",
       "</table>\n",
       "</div>"
      ],
      "text/plain": [
       "   일련번호     단어 감정범주    빈도  감정정도M  감정정도STD\n",
       "0   1.0   가관이다   혐오  47.5   4.95     2.46\n",
       "1   2.0   가련하다   슬픔  88.8   5.62     2.36\n",
       "2   3.0   가뿐하다   기쁨  81.3   5.36     2.89\n",
       "3   4.0   가소롭다   혐오  46.3   4.82     1.81\n",
       "4   5.0  가슴아프다   슬픔  93.8   7.62     2.14"
      ]
     },
     "execution_count": 11,
     "metadata": {},
     "output_type": "execute_result"
    }
   ],
   "source": [
    "emotion.head()"
   ]
  },
  {
   "cell_type": "code",
   "execution_count": 29,
   "metadata": {},
   "outputs": [
    {
     "data": {
      "text/plain": [
       "감정범주\n",
       "공포      26\n",
       "기쁨      84\n",
       "기타       6\n",
       "놀람      35\n",
       "분노      84\n",
       "슬픔     130\n",
       "중성       4\n",
       "지루함     16\n",
       "혐오      25\n",
       "dtype: int64"
      ]
     },
     "execution_count": 29,
     "metadata": {},
     "output_type": "execute_result"
    }
   ],
   "source": [
    "emotion.groupby(by='감정범주').size()"
   ]
  },
  {
   "cell_type": "code",
   "execution_count": 14,
   "metadata": {},
   "outputs": [
    {
     "data": {
      "text/html": [
       "<div>\n",
       "<style scoped>\n",
       "    .dataframe tbody tr th:only-of-type {\n",
       "        vertical-align: middle;\n",
       "    }\n",
       "\n",
       "    .dataframe tbody tr th {\n",
       "        vertical-align: top;\n",
       "    }\n",
       "\n",
       "    .dataframe thead th {\n",
       "        text-align: right;\n",
       "    }\n",
       "</style>\n",
       "<table border=\"1\" class=\"dataframe\">\n",
       "  <thead>\n",
       "    <tr style=\"text-align: right;\">\n",
       "      <th></th>\n",
       "      <th></th>\n",
       "      <th>감정정도M</th>\n",
       "    </tr>\n",
       "    <tr>\n",
       "      <th>감정범주</th>\n",
       "      <th>단어</th>\n",
       "      <th></th>\n",
       "    </tr>\n",
       "  </thead>\n",
       "  <tbody>\n",
       "    <tr>\n",
       "      <th rowspan=\"5\" valign=\"top\">공포</th>\n",
       "      <th>겁나다</th>\n",
       "      <td>6.94</td>\n",
       "    </tr>\n",
       "    <tr>\n",
       "      <th>겁쟁이</th>\n",
       "      <td>6.66</td>\n",
       "    </tr>\n",
       "    <tr>\n",
       "      <th>공포감</th>\n",
       "      <td>8.98</td>\n",
       "    </tr>\n",
       "    <tr>\n",
       "      <th>긴박하다</th>\n",
       "      <td>4.74</td>\n",
       "    </tr>\n",
       "    <tr>\n",
       "      <th>긴장되다</th>\n",
       "      <td>4.72</td>\n",
       "    </tr>\n",
       "    <tr>\n",
       "      <th>...</th>\n",
       "      <th>...</th>\n",
       "      <td>...</td>\n",
       "    </tr>\n",
       "    <tr>\n",
       "      <th rowspan=\"5\" valign=\"top\">혐오</th>\n",
       "      <th>징그럽다</th>\n",
       "      <td>7.83</td>\n",
       "    </tr>\n",
       "    <tr>\n",
       "      <th>찜찜하다</th>\n",
       "      <td>4.24</td>\n",
       "    </tr>\n",
       "    <tr>\n",
       "      <th>코웃음치다</th>\n",
       "      <td>3.89</td>\n",
       "    </tr>\n",
       "    <tr>\n",
       "      <th>해괴하다</th>\n",
       "      <td>6.01</td>\n",
       "    </tr>\n",
       "    <tr>\n",
       "      <th>흉측하다</th>\n",
       "      <td>8.34</td>\n",
       "    </tr>\n",
       "  </tbody>\n",
       "</table>\n",
       "<p>408 rows × 1 columns</p>\n",
       "</div>"
      ],
      "text/plain": [
       "            감정정도M\n",
       "감정범주 단어          \n",
       "공포   겁나다     6.94\n",
       "     겁쟁이     6.66\n",
       "     공포감     8.98\n",
       "     긴박하다    4.74\n",
       "     긴장되다    4.72\n",
       "...           ...\n",
       "혐오   징그럽다    7.83\n",
       "     찜찜하다    4.24\n",
       "     코웃음치다   3.89\n",
       "     해괴하다    6.01\n",
       "     흉측하다    8.34\n",
       "\n",
       "[408 rows x 1 columns]"
      ]
     },
     "execution_count": 14,
     "metadata": {},
     "output_type": "execute_result"
    }
   ],
   "source": [
    "pd.pivot_table(emotion, values='감정정도M', index=['감정범주','단어'])"
   ]
  },
  {
   "cell_type": "code",
   "execution_count": 25,
   "metadata": {},
   "outputs": [
    {
     "data": {
      "text/plain": [
       "410"
      ]
     },
     "execution_count": 25,
     "metadata": {},
     "output_type": "execute_result"
    }
   ],
   "source": [
    "emotion.감정범주.count()"
   ]
  },
  {
   "cell_type": "code",
   "execution_count": 33,
   "metadata": {},
   "outputs": [],
   "source": [
    "공포 = emotion[(emotion['감정범주'] == '공포')|(emotion['감정범주'] == '혐오')].단어"
   ]
  },
  {
   "cell_type": "code",
   "execution_count": 36,
   "metadata": {},
   "outputs": [],
   "source": [
    "기쁨 = emotion[(emotion['감정범주'] == '기쁨') & (emotion['감정정도M']<7)].단어"
   ]
  },
  {
   "cell_type": "code",
   "execution_count": 38,
   "metadata": {},
   "outputs": [],
   "source": [
    "행복 = emotion[(emotion['감정범주'] == '기쁨') & (emotion['감정정도M']>=7)].단어"
   ]
  },
  {
   "cell_type": "code",
   "execution_count": 39,
   "metadata": {},
   "outputs": [],
   "source": [
    "분노 = emotion[(emotion['감정범주'] == '분노')].단어"
   ]
  },
  {
   "cell_type": "code",
   "execution_count": 40,
   "metadata": {},
   "outputs": [],
   "source": [
    "슬픔 = emotion[(emotion['감정범주'] == '슬픔')].단어"
   ]
  },
  {
   "cell_type": "code",
   "execution_count": 41,
   "metadata": {},
   "outputs": [],
   "source": [
    "지루함 = emotion[(emotion['감정범주'] == '지루함')].단어"
   ]
  },
  {
   "cell_type": "code",
   "execution_count": 51,
   "metadata": {},
   "outputs": [],
   "source": [
    "놀람 = emotion[(emotion['감정범주'] == '놀람')].단어"
   ]
  },
  {
   "cell_type": "code",
   "execution_count": 52,
   "metadata": {},
   "outputs": [],
   "source": [
    "down2 = emotion[((emotion['감정범주'] == '공포')|(emotion['감정범주'] == '혐오')|(emotion['감정범주'] == '분노')|(emotion['감정범주'] == '슬픔')) & (emotion['감정정도M']<7)].단어"
   ]
  },
  {
   "cell_type": "code",
   "execution_count": 53,
   "metadata": {},
   "outputs": [],
   "source": [
    "down3 = emotion[((emotion['감정범주'] == '공포')|(emotion['감정범주'] == '혐오')|(emotion['감정범주'] == '분노')|(emotion['감정범주'] == '슬픔')) & (emotion['감정정도M']>=7)].단어"
   ]
  },
  {
   "cell_type": "code",
   "execution_count": 56,
   "metadata": {},
   "outputs": [],
   "source": [
    "down2.to_csv('down2.txt', index=False, header=None)"
   ]
  },
  {
   "cell_type": "code",
   "execution_count": 57,
   "metadata": {},
   "outputs": [],
   "source": [
    "down3.to_csv('down3.txt', index=False, header=None)"
   ]
  },
  {
   "cell_type": "code",
   "execution_count": 58,
   "metadata": {},
   "outputs": [],
   "source": [
    "공포.to_csv('공포.txt', index=False, header=None)"
   ]
  },
  {
   "cell_type": "code",
   "execution_count": 45,
   "metadata": {},
   "outputs": [],
   "source": [
    "기쁨.to_csv('기쁨.txt', index=False, header=None)"
   ]
  },
  {
   "cell_type": "code",
   "execution_count": 46,
   "metadata": {},
   "outputs": [],
   "source": [
    "행복.to_csv('행복.txt', index=False, header=None)"
   ]
  },
  {
   "cell_type": "code",
   "execution_count": 47,
   "metadata": {},
   "outputs": [],
   "source": [
    "분노.to_csv('분노.txt', index=False, header=None)"
   ]
  },
  {
   "cell_type": "code",
   "execution_count": 48,
   "metadata": {},
   "outputs": [],
   "source": [
    "슬픔.to_csv('슬픔.txt', index=False, header=None)"
   ]
  },
  {
   "cell_type": "code",
   "execution_count": 49,
   "metadata": {},
   "outputs": [],
   "source": [
    "지루함.to_csv('지루함.txt', index=False, header=None)"
   ]
  },
  {
   "cell_type": "code",
   "execution_count": 50,
   "metadata": {},
   "outputs": [],
   "source": [
    "놀람.to_csv('놀람.txt', index=False, header=None)"
   ]
  },
  {
   "cell_type": "code",
   "execution_count": null,
   "metadata": {},
   "outputs": [],
   "source": []
  }
 ],
 "metadata": {
  "kernelspec": {
   "display_name": "Python 3",
   "language": "python",
   "name": "python3"
  },
  "language_info": {
   "codemirror_mode": {
    "name": "ipython",
    "version": 3
   },
   "file_extension": ".py",
   "mimetype": "text/x-python",
   "name": "python",
   "nbconvert_exporter": "python",
   "pygments_lexer": "ipython3",
   "version": "3.7.6"
  }
 },
 "nbformat": 4,
 "nbformat_minor": 4
}
